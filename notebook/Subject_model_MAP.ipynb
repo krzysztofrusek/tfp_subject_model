{
  "nbformat": 4,
  "nbformat_minor": 0,
  "metadata": {
    "colab": {
      "name": "Subject_model_MAP.ipynb",
      "version": "0.3.2",
      "provenance": [],
      "collapsed_sections": []
    },
    "kernelspec": {
      "display_name": "Python 3",
      "language": "python",
      "name": "python3"
    }
  },
  "cells": [
    {
      "metadata": {
        "id": "xXUzB1htw95N",
        "colab_type": "text"
      },
      "cell_type": "markdown",
      "source": [
        "# Subject model in tensorflow\n",
        "\n",
        "Author: Krzystzof Rusek, AGH University of Science and Technology\n"
      ]
    },
    {
      "metadata": {
        "id": "bs_alV3r4pbe",
        "colab_type": "code",
        "colab": {
          "base_uri": "https://localhost:8080/",
          "height": 340
        },
        "outputId": "7a480f7a-ee8f-408f-bb3e-2dcd09830c52"
      },
      "cell_type": "code",
      "source": [
        "!pip install tensorflow_probability"
      ],
      "execution_count": 3,
      "outputs": [
        {
          "output_type": "stream",
          "text": [
            "Collecting tensorflow_probability\n",
            "\u001b[?25l  Downloading https://files.pythonhosted.org/packages/53/61/401c24a0062f406d5b8d9014210970f977a571225543d151fdebbeab42a1/tensorflow_probability-0.3.0-py2.py3-none-any.whl (509kB)\n",
            "\u001b[K    100% |████████████████████████████████| 512kB 5.6MB/s \n",
            "\u001b[?25hRequirement already satisfied: tensorflow>=1.10.0 in /usr/local/lib/python3.6/dist-packages (from tensorflow_probability) (1.10.1)\n",
            "Requirement already satisfied: numpy<=1.14.5,>=1.13.3 in /usr/local/lib/python3.6/dist-packages (from tensorflow_probability) (1.14.5)\n",
            "Requirement already satisfied: six>=1.10.0 in /usr/local/lib/python3.6/dist-packages (from tensorflow_probability) (1.11.0)\n",
            "Requirement already satisfied: termcolor>=1.1.0 in /usr/local/lib/python3.6/dist-packages (from tensorflow>=1.10.0->tensorflow_probability) (1.1.0)\n",
            "Requirement already satisfied: absl-py>=0.1.6 in /usr/local/lib/python3.6/dist-packages (from tensorflow>=1.10.0->tensorflow_probability) (0.4.1)\n",
            "Requirement already satisfied: wheel>=0.26 in /usr/local/lib/python3.6/dist-packages (from tensorflow>=1.10.0->tensorflow_probability) (0.31.1)\n",
            "Requirement already satisfied: protobuf>=3.6.0 in /usr/local/lib/python3.6/dist-packages (from tensorflow>=1.10.0->tensorflow_probability) (3.6.1)\n",
            "Requirement already satisfied: astor>=0.6.0 in /usr/local/lib/python3.6/dist-packages (from tensorflow>=1.10.0->tensorflow_probability) (0.7.1)\n",
            "Requirement already satisfied: setuptools<=39.1.0 in /usr/local/lib/python3.6/dist-packages (from tensorflow>=1.10.0->tensorflow_probability) (39.1.0)\n",
            "Requirement already satisfied: tensorboard<1.11.0,>=1.10.0 in /usr/local/lib/python3.6/dist-packages (from tensorflow>=1.10.0->tensorflow_probability) (1.10.0)\n",
            "Requirement already satisfied: grpcio>=1.8.6 in /usr/local/lib/python3.6/dist-packages (from tensorflow>=1.10.0->tensorflow_probability) (1.14.2)\n",
            "Requirement already satisfied: gast>=0.2.0 in /usr/local/lib/python3.6/dist-packages (from tensorflow>=1.10.0->tensorflow_probability) (0.2.0)\n",
            "Requirement already satisfied: markdown>=2.6.8 in /usr/local/lib/python3.6/dist-packages (from tensorboard<1.11.0,>=1.10.0->tensorflow>=1.10.0->tensorflow_probability) (2.6.11)\n",
            "Requirement already satisfied: werkzeug>=0.11.10 in /usr/local/lib/python3.6/dist-packages (from tensorboard<1.11.0,>=1.10.0->tensorflow>=1.10.0->tensorflow_probability) (0.14.1)\n",
            "Installing collected packages: tensorflow-probability\n",
            "Successfully installed tensorflow-probability-0.3.0\n"
          ],
          "name": "stdout"
        }
      ]
    },
    {
      "metadata": {
        "id": "zIM7G_rYw95P",
        "colab_type": "code",
        "colab": {}
      },
      "cell_type": "code",
      "source": [
        "import numpy as np\n",
        "import numpy.random as rn\n",
        "import tensorflow as tf\n",
        "import tensorflow_probability as tfp\n",
        "import matplotlib.pyplot as plt\n",
        "%matplotlib inline\n",
        "plt.style.use('ggplot')"
      ],
      "execution_count": 0,
      "outputs": []
    },
    {
      "metadata": {
        "id": "BhFEiuITw95U",
        "colab_type": "text"
      },
      "cell_type": "markdown",
      "source": [
        "I assume a simple user models the same as in Lucjan's simulation [Confidence Interval Simulation](https://colab.research.google.com/drive/1h-8hCWy_VWBjBQ2V5Nk5BUWN7g-0ApOp#scrollTo=6qBhGj1PBTq4):\n",
        "$o_{ij} = \\psi_j + \\Delta_i + \\epsilon_j$\n",
        "\n",
        "Where $\\psi_j \\sim U(1-5)$, i.e. it is from uniform distribution. $\\Delta_i \\sim N(0,b)$, i.e. it is from normal distribution with mean 0 and $b$ is such that the total variance of a single PVS is constant. $\\epsilon \\sim N(0,a_j)$ so variance is related to PVS but not user, just for simplicity. $a_j$ is driven from Gamma distribution with some parameters. What we know is that the total standard deviation related to specific PVS should be around 0.7-0.8 (Kjell at call at May, 7, 2018). 0.75 will be the mean but distribution makes it possible to have different errors for different cases."
      ]
    },
    {
      "metadata": {
        "id": "CHJ4HFUOw95V",
        "colab_type": "text"
      },
      "cell_type": "markdown",
      "source": [
        "# Notation\n",
        "https://docs.google.com/document/d/1o7nD2ztvlrhyTAB2eocb92OY2egDBjvrh-pE-zo32tQ/edit\n",
        "\n",
        "$$U_{ij}=\\psi_{j} + \\Delta_i + \\upsilon_i X + \\phi_{j} Y$$\n",
        "\n",
        "$$X,Y \\sim N(0,1)%0$$\n",
        "\n",
        "## Priors\n",
        "\n",
        "$\\Delta_i \\sim N(0,b)$ \n",
        "\n",
        "$\\psi_j \\sim U(1-5)$ \n",
        "\n",
        "$\\upsilon \\sim Gamm(\\alpha,\\beta)$\n",
        "\n",
        "$\\phi \\sim Gamm(\\alpha,\\beta)$\n",
        "\n",
        "## Multiple solutions \n",
        "\n",
        "According to Jing, the ambiguous solution can be avoided by setting priors on parameters. All we need is to have $\\upsilon$ and $\\phi$  coming from different distributions\n",
        "\n",
        "By learning just a MAP, we can avoid MCMC methods and use just an optimization.\n",
        "For further information check the original document by Jing at the link [Setting constraints to make MLE have single optimal solution](https://docs.google.com/document/d/1QqViBmGDm3Si0hPxH4yXGxn9QjO-ZhIJkURNfSrKcK0/edit)\n",
        "\n",
        "# MAP Estimator\n",
        "\n",
        "$$P(\\theta|d)=\\frac{P(d ,\\theta )}{P(d)}=\\frac{P(d |\\theta ) P(\\theta)}{P(d)}$$\n",
        "\n",
        "MAP estimator finds $$ \\hat \\theta = argmax_\\theta   P(\\theta|d)$$.\n",
        "\n",
        "Going to log probs we have ($P(d)$ is marginalized over $\\theta$ and can be ommited):\n",
        "$$\n",
        "\\log P(\\theta|d) = \\log P(d |\\theta ) + \\log P(\\theta) - \\log P(d)\n",
        "$$\n",
        "\n",
        "This is just loglikelihood $ll=\\log P(d |\\theta )$ plus regularization given by log prior $\\log P(\\theta)$.\n",
        "\n",
        "If we assume \n",
        "\n",
        "1. $\\upsilon \\sim Gamm(\\alpha_1,\\beta_1)$\n",
        "1. $\\phi \\sim Gamm(\\alpha_2,\\beta_2)$\n",
        "\n",
        "the posterior distribution is given by ([Gamma log-likelihood](https://en.wikipedia.org/wiki/Gamma_distribution#Maximum_likelihood_estimation))\n",
        "\n",
        "$$\n",
        "\\log P(\\theta|d) = ll + I(\\alpha_1-1)\\overline{\\log(\\upsilon_i)} -I \\frac{\\bar \\upsilon_i}{\\beta_1} + J (\\alpha_2-1)\\overline{\\log(\\phi_j)} -J \\frac{\\bar \\phi_j}{\\beta_2} + \\ldots\n",
        "$$\n",
        "\n",
        "We know that maximum of $ll$ is not unique under transformations..., however, log prior does not have such symmetry.\n",
        "In other words, the internal degree of freedom in log likelihood is fixed by prior assumptions about parameters that serve as constraints."
      ]
    },
    {
      "metadata": {
        "id": "kqeth0UIw95Y",
        "colab_type": "code",
        "colab": {}
      },
      "cell_type": "code",
      "source": [
        "nPVS = 160 # number of PVSs\n",
        "nSub = 24 # number of Subjects\n",
        "\n",
        "std = 0.75 # it is standard deviation for typical PVS\n",
        "alpha = 30.0 # it is parameter of the gamma distribution from which the variances are generated \n",
        "b = 0.3 # standard deviation for delta distribution\n",
        "\n",
        "psi = rn.uniform(1,5, size=(nPVS,1)) # MOSs generation\n",
        "fi = rn.gamma(alpha, np.sqrt(0.5*(std**2 - b**2))/alpha, size=(nPVS,1)) # std per PVS with delta\n",
        "upsilon = rn.gamma(alpha, np.sqrt(0.5*(std**2 - b**2))/alpha, size=(1,nSub)) # std per PVS with delta\n",
        "Delta = rn.normal(0, b, size=(1,nSub)) # Delta generation \n"
      ],
      "execution_count": 0,
      "outputs": []
    },
    {
      "metadata": {
        "id": "pO4W7WiR1cYA",
        "colab_type": "text"
      },
      "cell_type": "markdown",
      "source": [
        "# Notes\n",
        "\n",
        "1. Prior improve estimation\n",
        "1. Estimating continous model from quantized distribution is the most robus, $\\Delta$ is biased\n",
        "1. Hand coded log joint probability, `tfp.edward2.make_log_joint` alows for infering continous score\n",
        "1. Full Bayess is just one step ahead: MCMC, or StochasticGradientLangevinDynamics\n",
        "1. $\\infty$ in loss, but converges !\n",
        "\n",
        "\n",
        "## TODO\n",
        "\n",
        "1. [ ] Test various optimizers\n",
        "1. [ ] Fisher information matrix as Hessian approximation? GradientDescent works quite well\n",
        "1. [ ] Proper multinomial distribution for test results (hancoded mapping for continous score)\n",
        "1. [ ] Hack Optimizer for `tf.float64`\n",
        "1. [ ] Move this to github"
      ]
    },
    {
      "metadata": {
        "id": "RCX-3JyWw95f",
        "colab_type": "text"
      },
      "cell_type": "markdown",
      "source": [
        "# Generative model\n",
        "\n",
        "The code uses Edwart2 probabilistic programming language from [tensorflow_probability](https://github.com/tensorflow/probability) package"
      ]
    },
    {
      "metadata": {
        "id": "ZP8uUqBlw95h",
        "colab_type": "code",
        "colab": {
          "base_uri": "https://localhost:8080/",
          "height": 136
        },
        "outputId": "604073aa-f881-4d19-d195-96684f939f8c"
      },
      "cell_type": "code",
      "source": [
        "g = tf.Graph()\n",
        "with g.as_default():\n",
        "    tf_delta = tf.Variable(Delta.astype(np.float32))\n",
        "    tf_psi = tf.Variable(psi.astype(np.float32))\n",
        "\n",
        "    loc = tf_delta + tf_psi\n",
        "    \n",
        "    #make sure std is always positive\n",
        "    \n",
        "    tf_upsilon_sqr = tf.Variable(np.sqrt(upsilon).astype(np.float32))\n",
        "    tf_upsilon = tf_upsilon_sqr**2\n",
        "    \n",
        "    tf_fi_sqr = tf.Variable(np.sqrt(fi).astype(np.float32))\n",
        "    tf_fi = tf_fi_sqr**2\n",
        "    \n",
        "    scale = tf.sqrt(tf_upsilon**2 + tf_fi**2)\n",
        "    o = tfp.edward2.Normal(loc=loc,scale=scale)\n",
        "    o = tfp.edward2.QuantizedDistribution(o.distribution, low=1.0, high=5.0)\n",
        "\n",
        "\n",
        "with tf.Session(graph=g) as sess:\n",
        "    sess.run(tf.local_variables_initializer())\n",
        "    sess.run(tf.global_variables_initializer())\n",
        "    o_val, = sess.run([o])\n",
        "    print(o_val)"
      ],
      "execution_count": 6,
      "outputs": [
        {
          "output_type": "stream",
          "text": [
            "[[2. 1. 3. ... 1. 3. 3.]\n",
            " [1. 2. 3. ... 4. 3. 2.]\n",
            " [5. 4. 5. ... 4. 5. 3.]\n",
            " ...\n",
            " [2. 4. 4. ... 3. 4. 2.]\n",
            " [1. 2. 1. ... 2. 1. 3.]\n",
            " [5. 4. 5. ... 5. 5. 5.]]\n"
          ],
          "name": "stdout"
        }
      ]
    },
    {
      "metadata": {
        "id": "rZiHGfifw952",
        "colab_type": "code",
        "colab": {
          "base_uri": "https://localhost:8080/",
          "height": 286
        },
        "outputId": "cebdd0b0-8493-4c96-dc91-862709e26187"
      },
      "cell_type": "code",
      "source": [
        "plt.imshow(o_val/5)"
      ],
      "execution_count": 7,
      "outputs": [
        {
          "output_type": "execute_result",
          "data": {
            "text/plain": [
              "<matplotlib.image.AxesImage at 0x7f3c372b4518>"
            ]
          },
          "metadata": {
            "tags": []
          },
          "execution_count": 7
        },
        {
          "output_type": "display_data",
          "data": {
            "image/png": "[encoded data removed]",
            "text/plain": [
              "<matplotlib.figure.Figure at 0x7f3c3e4090f0>"
            ]
          },
          "metadata": {
            "tags": []
          }
        }
      ]
    },
    {
      "metadata": {
        "id": "wKKJwbzow96K",
        "colab_type": "code",
        "colab": {
          "base_uri": "https://localhost:8080/",
          "height": 281
        },
        "outputId": "8620eaf4-e8ef-4f74-a0fc-54411845baea"
      },
      "cell_type": "code",
      "source": [
        "plt.scatter(np.mean(o_val,axis=1),psi)\n",
        "plt.plot([0,5],[0,5],'k')\n",
        "plt.xlabel('mean score')\n",
        "plt.ylabel(r'$\\Psi$');"
      ],
      "execution_count": 8,
      "outputs": [
        {
          "output_type": "display_data",
          "data": {
            "image/png": "[encoded data removed]",
            "text/plain": [
              "<matplotlib.figure.Figure at 0x7f3c372dc978>"
            ]
          },
          "metadata": {
            "tags": []
          }
        }
      ]
    },
    {
      "metadata": {
        "id": "MRv6Tdhfw96b",
        "colab_type": "code",
        "colab": {
          "base_uri": "https://localhost:8080/",
          "height": 282
        },
        "outputId": "877c6a9c-a541-4554-b51d-64334535119b"
      },
      "cell_type": "code",
      "source": [
        "plt.scatter(np.std(o_val,axis=1),fi)\n",
        "plt.plot([0,1.2],[0,1.2],'k')\n",
        "plt.xlabel('std of $O$')\n",
        "plt.ylabel(r'std per PVS with delta');"
      ],
      "execution_count": 9,
      "outputs": [
        {
          "output_type": "display_data",
          "data": {
            "image/png": "[encoded data removed]",
            "text/plain": [
              "<matplotlib.figure.Figure at 0x7f3c352011d0>"
            ]
          },
          "metadata": {
            "tags": []
          }
        }
      ]
    },
    {
      "metadata": {
        "id": "B9im3yW7w96_",
        "colab_type": "text"
      },
      "cell_type": "markdown",
      "source": [
        "Let us now use the generative code for inference with  $\\Delta$,  $\\psi$ ,$\\upsilon$ and $\\phi$ as variables\n",
        "\n",
        "\n",
        "* Distribution of $O_{ij}$ is quantized normal implemeted using  ```tfp.edward2```\n",
        "* MLE is obtained by minimizing negative log_prob.\n",
        "* Initial condition from moments estimators\n",
        "* MAP is just MLE with prior loglik as regularization "
      ]
    },
    {
      "metadata": {
        "id": "k_R0U9Bew97O",
        "colab_type": "code",
        "colab": {
          "base_uri": "https://localhost:8080/",
          "height": 1717
        },
        "outputId": "03f914d9-c364-4041-e191-a9475b64c712"
      },
      "cell_type": "code",
      "source": [
        "g = tf.Graph()\n",
        "with g.as_default():\n",
        "    \n",
        "    #Plausible initial conditions\n",
        "    psi_in = rn.uniform(1,5, size=(nPVS,1)) # MOSs generation\n",
        "    fi_in = rn.gamma(alpha, np.sqrt(0.5*(std**2 - b**2))/alpha, size=(nPVS,1)) # std per PVS with delta\n",
        "    upsilon_in = rn.gamma(alpha, np.sqrt(0.5*(std**2 - b**2))/alpha, size=(1,nSub)) # std per PVS with delta\n",
        "    Delta_in = rn.normal(0, b, size=(1,nSub)) # Delta generation \n",
        "\n",
        "    # Copy-Paste\n",
        "    # TODO move this to function\n",
        "    \n",
        "    tf_delta = tf.Variable(Delta_in.astype(np.float32))\n",
        "    tf_psi = tf.Variable(psi_in.astype(np.float32))\n",
        "\n",
        "    loc = tf_delta + tf_psi\n",
        "    \n",
        "    #make sure std is always positive\n",
        "    \n",
        "    tf_upsilon_sqr = tf.Variable(np.sqrt(upsilon_in).astype(np.float32))\n",
        "    tf_upsilon = tf_upsilon_sqr**2\n",
        "    \n",
        "    tf_fi_sqr = tf.Variable(np.sqrt(fi_in).astype(np.float32))\n",
        "    tf_fi = tf_fi_sqr**2\n",
        "    \n",
        "    scale = tf.sqrt(tf_upsilon**2 + tf_fi**2)\n",
        "    \n",
        "    \n",
        "    o = tfp.edward2.Normal(loc=loc,scale=scale)\n",
        "    o = tfp.edward2.QuantizedDistribution(o.distribution.copy(), low=np.float32(1.0), high=np.float32(5.0))\n",
        "    \n",
        "    loglik = tf.reduce_mean(o.distribution.log_prob(o_val))\n",
        "    \n",
        "    delta_prior = tfp.edward2.Normal(loc=0.0,scale=0.3)\n",
        "    psi_prior = tfp.edward2.Uniform(low=1.0,high=5.0)\n",
        "    #the same for fi\n",
        "    upsilon_prior = tfp.edward2.Gamma(\n",
        "        concentration=np.float32(alpha),\n",
        "        rate=np.float32(alpha/np.sqrt(0.5*(std**2 - b**2))))\n",
        "    \n",
        "#     delta_prior = tfp.edward2.Normal(loc=np.zeros((1,nSub), dtype=np.float32) ,scale=0.3,name=\"delta\")\n",
        "#     psi_prior = tfp.edward2.Uniform(low=np.ones((nPVS,1),dtype=np.float32), high=5.0,name=\"psi\")\n",
        "#     #the same for fi\n",
        "#     upsilon_prior = tfp.edward2.Gamma(\n",
        "#         concentration=np.float32(alpha)*np.ones((1,nSub),dtype=np.float32),\n",
        "#         rate=np.float32(alpha/np.sqrt(0.5*(std**2 - b**2))),name=\"upsilon\")\n",
        "#     fi_prior = tfp.edward2.Gamma(\n",
        "#         concentration=np.float32(alpha)*np.ones((nPVS,1),dtype=np.float32),\n",
        "#         rate=np.float32(alpha/np.sqrt(0.5*(std**2 - b**2))),name=\"fi\")\n",
        "    \n",
        "    prior_log_prob = tf.reduce_sum(delta_prior.distribution.log_prob(tf_delta)) + \\\n",
        "        tf.reduce_sum(psi_prior.distribution.log_prob(tf_psi)) + \\\n",
        "        tf.reduce_sum(upsilon_prior.distribution.log_prob(tf_upsilon)) + \\\n",
        "        tf.reduce_sum(upsilon_prior.distribution.log_prob(tf_fi)) # not an erro\n",
        "\n",
        "    #regularization =   tf.reduce_sum(tf_delta**2)/(2*0.3**2)\n",
        "    #regularization =   - tf.reduce_sum(delta_prior.distribution.log_prob(tf_delta))/160.0\n",
        "    #loss = loss + regularization\n",
        "    loss = -loglik - prior_log_prob/(160.0*24.0)\n",
        "\n",
        "    #regularization = tf.reduce_sum(delta_prior.distribution.log_prob(tf_delta))\n",
        "        \n",
        "    gs=tf.contrib.training.get_or_create_eval_step()\n",
        "#    lr = tf.train.exponential_decay(0.1,gs,decay_steps=100,decay_rate=0.9999)\n",
        "#    train_op = tf.train.GradientDescentOptimizer(learning_rate=lr).minimize(-loss, global_step=gs)\n",
        "    \n",
        "    # to jest bardzo dobre\n",
        "    train_op = tf.train.RMSPropOptimizer(learning_rate=0.0008).minimize(loss)\n",
        "    #train_op = tf.train.AdagradOptimizer(learning_rate=0.01).minimize(loss)\n",
        "    train_op = tf.train.GradientDescentOptimizer(learning_rate=0.01).minimize(loss)\n",
        "\n",
        "with tf.Session(graph=g) as sess:\n",
        "    sess.run(tf.local_variables_initializer())\n",
        "    sess.run(tf.global_variables_initializer())\n",
        "    for i in range(50000):\n",
        "        _,np_loss,np_reg = sess.run([train_op,loss,prior_log_prob])\n",
        "        if i % 500 ==0:\n",
        "            print(i,np_loss,np_reg)\n",
        "    (delta_hat, \n",
        "     psi_hat, \n",
        "     upsilon_hat, \n",
        "     fi_hat, \n",
        "     loss_val) = sess.run([tf_delta,tf_psi,tf_upsilon,tf_fi,loss])\n"
      ],
      "execution_count": 10,
      "outputs": [
        {
          "output_type": "stream",
          "text": [
            "0 3.4683697 -43.97461\n",
            "500 1.9621689 -462.44354\n",
            "1000 1.9082712 -572.8662\n",
            "1500 1.8826634 -585.9284\n",
            "2000 1.8609641 -573.0385\n",
            "2500 1.8406986 -553.8923\n",
            "3000 1.82128 -534.03455\n",
            "3500 1.8024325 -514.87317\n",
            "4000 1.7839884 -496.63647\n",
            "4500 1.765835 -479.239\n",
            "5000 1.747887 -462.55054\n",
            "5500 1.7300777 -446.44788\n",
            "6000 1.712357 -430.82916\n",
            "6500 1.6946832 -415.61172\n",
            "7000 1.6770197 -400.73865\n",
            "7500 1.6593412 -386.154\n",
            "8000 1.6416235 -371.8225\n",
            "8500 1.6238499 -357.71298\n",
            "9000 1.6060075 -343.79926\n",
            "9500 1.5880885 -330.07153\n",
            "10000 1.5700897 -316.51782\n",
            "10500 1.5520121 -303.13245\n",
            "11000 1.5338567 -289.9151\n",
            "11500 1.5156332 -276.8666\n",
            "12000 1.4973515 -263.98926\n",
            "12500 1.4790212 -251.29213\n",
            "13000 1.4606628 -238.77945\n",
            "13500 1.4422982 -226.462\n",
            "14000 1.4239438 -214.34814\n",
            "14500 1.4056232 -202.45026\n",
            "15000 1.3873674 -190.77202\n",
            "15500 1.3692 -179.32886\n",
            "16000 1.3511508 -168.12958\n",
            "16500 1.333249 -157.18599\n",
            "17000 1.3155252 -146.50725\n",
            "17500 1.2980087 -136.10434\n",
            "18000 inf -inf\n",
            "18500 inf -inf\n",
            "19000 inf -inf\n",
            "19500 inf -inf\n",
            "20000 inf -inf\n",
            "20500 inf -inf\n",
            "21000 inf -inf\n",
            "21500 inf -inf\n",
            "22000 inf -inf\n",
            "22500 inf -inf\n",
            "23000 inf -inf\n",
            "23500 inf -inf\n",
            "24000 inf -inf\n",
            "24500 inf -inf\n",
            "25000 inf -inf\n",
            "25500 inf -inf\n",
            "26000 inf -inf\n",
            "26500 inf -inf\n",
            "27000 inf -inf\n",
            "27500 inf -inf\n",
            "28000 inf -inf\n",
            "28500 inf -inf\n",
            "29000 inf -inf\n",
            "29500 inf -inf\n",
            "30000 inf -inf\n",
            "30500 inf -inf\n",
            "31000 inf -inf\n",
            "31500 inf -inf\n",
            "32000 inf -inf\n",
            "32500 inf -inf\n",
            "33000 inf -inf\n",
            "33500 inf -inf\n",
            "34000 inf -inf\n",
            "34500 inf -inf\n",
            "35000 inf -inf\n",
            "35500 inf -inf\n",
            "36000 inf -inf\n",
            "36500 inf -inf\n",
            "37000 inf -inf\n",
            "37500 inf -inf\n",
            "38000 inf -inf\n",
            "38500 inf -inf\n",
            "39000 inf -inf\n",
            "39500 inf -inf\n",
            "40000 inf -inf\n",
            "40500 inf -inf\n",
            "41000 inf -inf\n",
            "41500 inf -inf\n",
            "42000 inf -inf\n",
            "42500 inf -inf\n",
            "43000 inf -inf\n",
            "43500 inf -inf\n",
            "44000 inf -inf\n",
            "44500 inf -inf\n",
            "45000 inf -inf\n",
            "45500 inf -inf\n",
            "46000 inf -inf\n",
            "46500 inf -inf\n",
            "47000 inf -inf\n",
            "47500 inf -inf\n",
            "48000 inf -inf\n",
            "48500 inf -inf\n",
            "49000 inf -inf\n",
            "49500 inf -inf\n"
          ],
          "name": "stdout"
        }
      ]
    },
    {
      "metadata": {
        "id": "1mZfr-4Vw97e",
        "colab_type": "text"
      },
      "cell_type": "markdown",
      "source": [
        "# Edward2 log_joint"
      ]
    },
    {
      "metadata": {
        "id": "D2KWn5TBw97f",
        "colab_type": "code",
        "colab": {},
        "outputId": "ca1d7b51-3447-4d45-fb1a-da628e929d2c"
      },
      "cell_type": "code",
      "source": [
        "def subject_model():\n",
        "    delta_prior = tfp.edward2.Normal(loc=np.zeros((1,nSub), dtype=np.float32) ,scale=0.3,name=\"delta\")\n",
        "    psi_prior = tfp.edward2.Uniform(low=np.ones((nPVS,1),dtype=np.float32), high=5.0,name=\"psi\")\n",
        "    #the same for fi\n",
        "    upsilon_prior = tfp.edward2.Gamma(\n",
        "        concentration=np.float32(alpha)*np.ones((1,nSub),dtype=np.float32),\n",
        "        rate=np.float32(alpha/np.sqrt(0.5*(std**2 - b**2))),name=\"upsilon\")\n",
        "    fi_prior = tfp.edward2.Gamma(\n",
        "        concentration=np.float32(alpha)*np.ones((nPVS,1),dtype=np.float32),\n",
        "        rate=np.float32(alpha/np.sqrt(0.5*(std**2 - b**2))),name=\"fi\")\n",
        "    \n",
        "    \n",
        "    n = tfp.edward2.Normal(loc=delta_prior + psi_prior,\n",
        "                         scale=tf.sqrt(upsilon_prior**2 + fi_prior**2), name=\"n\")\n",
        "    #o = tfp.edward2.QuantizedDistribution(n.distribution, low=1.0, high=5.0, name=\"o\")\n",
        "    return o\n",
        "\n",
        "def subject_model2():\n",
        "    delta = tfp.edward2.Normal(loc=0.0,scale=0.3, \n",
        "                               sample_shape=(1,nSub),\n",
        "                              name=\"delta\")\n",
        "\n",
        "    psi = tfp.edward2.Uniform(low=1.0, high=5.0, \n",
        "                              sample_shape=(nPVS,1),\n",
        "                             name=\"psi\")\n",
        "\n",
        "    upsilon = tfp.edward2.Gamma(\n",
        "        concentration=float(alpha),\n",
        "        rate=float(alpha/np.sqrt(0.5*(std**2 - b**2))),\n",
        "        sample_shape=(1,nSub),\n",
        "        name=\"upsilon\")\n",
        "    \n",
        "    fi = tfp.edward2.Gamma(\n",
        "        concentration=float(alpha),\n",
        "        rate=float(alpha/np.sqrt(0.5*(std**2 - b**2))),\n",
        "        sample_shape=(nPVS,1),name=\"fi\")\n",
        "    \n",
        "    \n",
        "    o = tfp.edward2.Normal(loc=delta + psi,\n",
        "                         scale=tf.sqrt(upsilon**2 + fi**2), name=\"o\")\n",
        "    \n",
        "    #o2 = tfp.edward2.QuantizedDistribution(o.distribution, low=1.0, high=5.0,name='o2')\n",
        "    return o#2\n",
        "\n",
        "\n",
        "g = tf.Graph()\n",
        "with g.as_default():\n",
        "\n",
        "    psi_in = rn.uniform(1,5, size=(nPVS,1)) # MOSs generation\n",
        "    fi_in = rn.gamma(alpha, np.sqrt(0.5*(std**2 - b**2))/alpha, size=(nPVS,1)) # std per PVS with delta\n",
        "    upsilon_in = rn.gamma(alpha, np.sqrt(0.5*(std**2 - b**2))/alpha, size=(1,nSub)) # std per PVS with delta\n",
        "    Delta_in = rn.normal(0, b, size=(1,nSub)) # Delta generation \n",
        "\n",
        "   \n",
        "    tf_delta = tf.Variable(Delta_in.astype(np.float32))\n",
        "    tf_psi = tf.Variable(psi_in.astype(np.float32))\n",
        "    \n",
        "    tf_upsilon_sqr = tf.Variable(np.sqrt(upsilon_in).astype(np.float32))\n",
        "    tf_upsilon = tf_upsilon_sqr**2\n",
        "    \n",
        "    tf_fi_sqr = tf.Variable(np.sqrt(fi_in).astype(np.float32))\n",
        "    tf_fi = tf_fi_sqr**2\n",
        "\n",
        "    #oo=subject_model2()\n",
        "    log_joint = tfp.edward2.make_log_joint_fn(subject_model2)\n",
        "    \n",
        "    opreq = tf.get_variable('opreq',shape=o_val.shape,dtype=o_val.dtype)\n",
        "    \n",
        "    loss = -log_joint(delta=tf_delta,\n",
        "                     psi = tf_psi,\n",
        "                     upsilon = tf_upsilon,\n",
        "                     fi=tf_fi,\n",
        "                     #o=opreq,\n",
        "                     o=o_val)\n",
        "    #train_op = tf.train.RMSPropOptimizer(learning_rate=0.0008).minimize(loss)\n",
        "    #train_op = tf.train.AdamOptimizer(learning_rate=0.01).minimize(loss)\n",
        "    train_op = tf.train.AdagradOptimizer(learning_rate=0.01).minimize(loss)\n",
        "        \n",
        "with tf.Session(graph=g) as sess:\n",
        "    sess.run(tf.local_variables_initializer())\n",
        "    sess.run(tf.global_variables_initializer())\n",
        "    for i in range(100000):\n",
        "        _,np_loss = sess.run([train_op,loss])\n",
        "        if i % 1000 ==0:\n",
        "            print(i,np_loss)\n",
        "    (delta_hat, \n",
        "     psi_hat, \n",
        "     upsilon_hat, \n",
        "     fi_hat, \n",
        "     loss_val) = sess.run([tf_delta,tf_psi,tf_upsilon,tf_fi,loss])\n"
      ],
      "execution_count": 0,
      "outputs": [
        {
          "output_type": "stream",
          "text": [
            "0 15879.487\n",
            "1000 7207.7534\n",
            "2000 6669.2793\n",
            "3000 6272.5405\n",
            "4000 5943.595\n",
            "5000 5666.5127\n",
            "6000 5432.886\n",
            "7000 5235.42\n",
            "8000 5067.6055\n",
            "9000 4924.016\n",
            "10000 4800.327\n",
            "11000 inf\n",
            "12000 inf\n",
            "13000 inf\n",
            "14000 inf\n",
            "15000 inf\n",
            "16000 inf\n",
            "17000 inf\n",
            "18000 inf\n",
            "19000 inf\n",
            "20000 inf\n",
            "21000 inf\n",
            "22000 inf\n",
            "23000 inf\n",
            "24000 inf\n",
            "25000 inf\n",
            "26000 inf\n",
            "27000 inf\n",
            "28000 inf\n",
            "29000 inf\n",
            "30000 inf\n",
            "31000 inf\n",
            "32000 inf\n",
            "33000 inf\n",
            "34000 inf\n",
            "35000 inf\n",
            "36000 inf\n",
            "37000 inf\n",
            "38000 inf\n",
            "39000 inf\n",
            "40000 inf\n",
            "41000 inf\n",
            "42000 inf\n",
            "43000 inf\n",
            "44000 inf\n",
            "45000 inf\n",
            "46000 inf\n",
            "47000 inf\n",
            "48000 inf\n",
            "49000 inf\n",
            "50000 inf\n",
            "51000 inf\n",
            "52000 inf\n",
            "53000 inf\n",
            "54000 inf\n",
            "55000 inf\n",
            "56000 inf\n",
            "57000 inf\n",
            "58000 inf\n",
            "59000 inf\n",
            "60000 inf\n",
            "61000 inf\n",
            "62000 inf\n",
            "63000 inf\n",
            "64000 inf\n",
            "65000 inf\n",
            "66000 inf\n",
            "67000 inf\n",
            "68000 inf\n",
            "69000 inf\n",
            "70000 inf\n",
            "71000 inf\n",
            "72000 inf\n",
            "73000 inf\n",
            "74000 inf\n",
            "75000 inf\n",
            "76000 inf\n",
            "77000 inf\n",
            "78000 inf\n",
            "79000 inf\n",
            "80000 inf\n",
            "81000 inf\n",
            "82000 inf\n",
            "83000 inf\n",
            "84000 inf\n",
            "85000 inf\n",
            "86000 inf\n",
            "87000 inf\n",
            "88000 inf\n",
            "89000 inf\n",
            "90000 inf\n",
            "91000 inf\n",
            "92000 inf\n",
            "93000 inf\n",
            "94000 inf\n",
            "95000 inf\n",
            "96000 inf\n",
            "97000 inf\n",
            "98000 inf\n",
            "99000 inf\n"
          ],
          "name": "stdout"
        }
      ]
    },
    {
      "metadata": {
        "id": "eweGsMGhw97l",
        "colab_type": "code",
        "colab": {},
        "outputId": "603a8d3e-5fa9-4cbe-ce1e-302c4870ef33"
      },
      "cell_type": "code",
      "source": [
        "from tensorflow_probability import edward2 as ed\n",
        "\n",
        "def model():\n",
        "      w = ed.Normal(loc=0., scale=1., sample_shape=, name=\"w\")\n",
        "      y = ed.Normal(loc=tf.tensordot(X, w, [[1], [0]]), scale=0.1, name=\"y\")\n",
        "      return y\n",
        "\n",
        "g = tf.Graph()\n",
        "with g.as_default():\n",
        "    log_joint = ed.make_log_joint_fn(model)\n",
        "\n",
        "    X = tf.random_normal([3, 2])\n",
        "    w_value = tf.random_normal([2])\n",
        "    y_value = tf.random_normal([3])\n",
        "    output = log_joint(X, w=w_value, y=y_value)\n",
        "\n",
        "with tf.Session(graph=g) as sess:\n",
        "    sess.run(tf.local_variables_initializer())\n",
        "    sess.run(tf.global_variables_initializer())\n",
        "    print(output.eval())"
      ],
      "execution_count": 0,
      "outputs": [
        {
          "output_type": "stream",
          "text": [
            "-170.40956\n"
          ],
          "name": "stdout"
        }
      ]
    },
    {
      "metadata": {
        "id": "-o-mecOcw97t",
        "colab_type": "code",
        "colab": {},
        "outputId": "4775811b-1943-44f8-8b93-899ac8a65378"
      },
      "cell_type": "code",
      "source": [
        "o_val"
      ],
      "execution_count": 0,
      "outputs": [
        {
          "output_type": "execute_result",
          "data": {
            "text/plain": [
              "array([[2.062582  , 1.675439  , 3.6083555 , ..., 2.2330341 , 1.8872852 ,\n",
              "        3.309371  ],\n",
              "       [4.749155  , 4.625428  , 5.6094723 , ..., 4.5532784 , 5.0379214 ,\n",
              "        4.532455  ],\n",
              "       [1.8878939 , 0.24163139, 1.8553929 , ..., 3.207556  , 0.5289407 ,\n",
              "        3.0511765 ],\n",
              "       ...,\n",
              "       [1.2356493 , 0.35133523, 0.96680534, ..., 1.3648292 , 2.4586809 ,\n",
              "        1.3481271 ],\n",
              "       [4.6968946 , 4.695248  , 5.750748  , ..., 4.6108055 , 5.394107  ,\n",
              "        3.8911562 ],\n",
              "       [4.1741877 , 3.2330506 , 4.179968  , ..., 3.749391  , 5.2108755 ,\n",
              "        3.5042892 ]], dtype=float32)"
            ]
          },
          "metadata": {
            "tags": []
          },
          "execution_count": 328
        }
      ]
    },
    {
      "metadata": {
        "id": "fTdEZM14w972",
        "colab_type": "code",
        "colab": {},
        "outputId": "979a7d89-1b62-46f5-d4ed-6ce49944e4c2"
      },
      "cell_type": "code",
      "source": [
        "1/(24*160)"
      ],
      "execution_count": 0,
      "outputs": [
        {
          "output_type": "execute_result",
          "data": {
            "text/plain": [
              "0.00026041666666666666"
            ]
          },
          "metadata": {
            "tags": []
          },
          "execution_count": 180
        }
      ]
    },
    {
      "metadata": {
        "id": "jk99YkhQw98a",
        "colab_type": "code",
        "colab": {
          "base_uri": "https://localhost:8080/",
          "height": 298
        },
        "outputId": "ea3ff227-eb49-4703-c4dd-09dd2d4c6311"
      },
      "cell_type": "code",
      "source": [
        "plt.scatter(psi,psi_hat)\n",
        "plt.plot([1,5],[1,5],'k')\n",
        "plt.xlabel('True score')\n",
        "plt.ylabel('Recovered score')"
      ],
      "execution_count": 11,
      "outputs": [
        {
          "output_type": "execute_result",
          "data": {
            "text/plain": [
              "Text(0,0.5,'Recovered score')"
            ]
          },
          "metadata": {
            "tags": []
          },
          "execution_count": 11
        },
        {
          "output_type": "display_data",
          "data": {
            "image/png": "[encoded data removed]",
            "text/plain": [
              "<matplotlib.figure.Figure at 0x7f3c37275eb8>"
            ]
          },
          "metadata": {
            "tags": []
          }
        }
      ]
    },
    {
      "metadata": {
        "id": "JctaNy6_w99E",
        "colab_type": "code",
        "colab": {
          "base_uri": "https://localhost:8080/",
          "height": 298
        },
        "outputId": "82c5688f-26e6-4bf1-a548-995eb8b6e837"
      },
      "cell_type": "code",
      "source": [
        "plt.scatter(Delta,delta_hat)\n",
        "plt.plot([-1,1.3],[-1,1.3],'k')\n",
        "plt.xlabel('True bias')\n",
        "plt.ylabel('Recovered bias')"
      ],
      "execution_count": 12,
      "outputs": [
        {
          "output_type": "execute_result",
          "data": {
            "text/plain": [
              "Text(0,0.5,'Recovered bias')"
            ]
          },
          "metadata": {
            "tags": []
          },
          "execution_count": 12
        },
        {
          "output_type": "display_data",
          "data": {
            "image/png": "[encoded data removed]",
            "text/plain": [
              "<matplotlib.figure.Figure at 0x7f3c324fdf28>"
            ]
          },
          "metadata": {
            "tags": []
          }
        }
      ]
    },
    {
      "metadata": {
        "id": "_zau1NIFw99Y",
        "colab_type": "code",
        "colab": {
          "base_uri": "https://localhost:8080/",
          "height": 298
        },
        "outputId": "8275c7f0-033c-4b4d-aed5-d690642603ae"
      },
      "cell_type": "code",
      "source": [
        "plt.scatter(fi,fi_hat)\n",
        "plt.plot([0,1.2],[0,1.2],'k')\n",
        "plt.xlabel('True std')\n",
        "plt.ylabel('Recovered std')"
      ],
      "execution_count": 13,
      "outputs": [
        {
          "output_type": "execute_result",
          "data": {
            "text/plain": [
              "Text(0,0.5,'Recovered std')"
            ]
          },
          "metadata": {
            "tags": []
          },
          "execution_count": 13
        },
        {
          "output_type": "display_data",
          "data": {
            "image/png": "[encoded data removed]",
            "text/plain": [
              "<matplotlib.figure.Figure at 0x7f3c3251c898>"
            ]
          },
          "metadata": {
            "tags": []
          }
        }
      ]
    },
    {
      "metadata": {
        "id": "iOb66TvPw99p",
        "colab_type": "code",
        "colab": {
          "base_uri": "https://localhost:8080/",
          "height": 298
        },
        "outputId": "03dfcfcc-c4d4-4db2-c7b1-246bc834ce41"
      },
      "cell_type": "code",
      "source": [
        "plt.scatter(upsilon,upsilon_hat)\n",
        "plt.plot([0,1.2],[0,1.2],'k')\n",
        "plt.xlabel('True std')\n",
        "plt.ylabel('Recovered std')"
      ],
      "execution_count": 14,
      "outputs": [
        {
          "output_type": "execute_result",
          "data": {
            "text/plain": [
              "Text(0,0.5,'Recovered std')"
            ]
          },
          "metadata": {
            "tags": []
          },
          "execution_count": 14
        },
        {
          "output_type": "display_data",
          "data": {
            "image/png": "[encoded data removed]",
            "text/plain": [
              "<matplotlib.figure.Figure at 0x7f3c324616a0>"
            ]
          },
          "metadata": {
            "tags": []
          }
        }
      ]
    },
    {
      "metadata": {
        "id": "Dei9wWnlw9-J",
        "colab_type": "code",
        "colab": {}
      },
      "cell_type": "code",
      "source": [
        ""
      ],
      "execution_count": 0,
      "outputs": []
    }
  ]
}